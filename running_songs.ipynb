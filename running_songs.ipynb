{
 "cells": [
  {
   "cell_type": "markdown",
   "metadata": {},
   "source": [
    "# Runnning in the title\n",
    "Exploring playlists with the word \"running\" in the title"
   ]
  },
  {
   "cell_type": "code",
   "execution_count": 1,
   "metadata": {},
   "outputs": [],
   "source": [
    "#supress warnings since i'm getting a lot of DeprecationWarnings and for python 3.9\n",
    "import warnings\n",
    "warnings.filterwarnings(\"default\", category=DeprecationWarning)\n",
    "warnings.filterwarnings('ignore')"
   ]
  },
  {
   "cell_type": "code",
   "execution_count": 8,
   "metadata": {},
   "outputs": [],
   "source": [
    "# pip install musixmatch\n",
    "# pip install textblob\n",
    "# pip install gensim\n",
    "# pip install wordcloud\n",
    "# pip install spotify\n",
    "# pip install base64\n",
    "\n",
    "#Import libraries\n",
    "from os.path import dirname # to import or export list of songs / lyrics \n",
    "import pandas as pd\n",
    "\n",
    "#Musixmatch and Spotify API calls and processing of responses\n",
    "import spotify.sync as spotify\n",
    "import base64\n",
    "# import datetime\n",
    "\n",
    "import musixmatch #musixmatch apis to get song data\n",
    "import requests\n",
    "# import urllib\n",
    "from urllib.parse import urlencode\n",
    "\n",
    "# import re\n",
    "# import json #to process musixmatch response which is in json format\n",
    "\n",
    "# #Machine learning libraries for Text analysis\n",
    "# import nltk  # machine learning with text\n",
    "# from nltk import download as nltk_download\n",
    "# from nltk.corpus import stopwords, wordnet  # List of common words\n",
    "# from nltk.tokenize import word_tokenize  # Split text into significant forms\n",
    "# from nltk.stem import WordNetLemmatizer  # Reduce words to their root form\n",
    "# from nltk import pos_tag  # Tag words with parts of speech\n",
    "# from collections import defaultdict  # Dictionaries that have a backup value\n",
    "# from sklearn.feature_extraction.text import CountVectorizer  # Convert text to sparse matrices\n",
    "# from textblob import TextBlob  # Sentiment analysis\n",
    "# from gensim.models.ldamodel import LdaModel  # Topic extraction\n",
    "# from gensim.models.phrases import Phrases  # ngrams\n",
    "# from gensim import corpora  # Vectorization\n",
    "\n",
    "# #Visualization\n",
    "# import matplotlib.pylab as plt\n",
    "# # import pyLDAvis.gensim  # Visualise topics\n",
    "# from wordcloud import WordCloud  # Create wordclouds"
   ]
  },
  {
   "cell_type": "code",
   "execution_count": 3,
   "metadata": {},
   "outputs": [],
   "source": [
    "# # api key and base url for musixmatch\n",
    "# apikey_musixmatch = 'd970c8b445abece0126552e40164fa8e'\n",
    "# apiurl_musixmatch = 'http://api.musixmatch.com/ws/1.1/'"
   ]
  },
  {
   "cell_type": "code",
   "execution_count": 14,
   "metadata": {},
   "outputs": [
    {
     "name": "stdout",
     "output_type": "stream",
     "text": [
      "200\n",
      "{'playlists': {'href': 'https://api.spotify.com/v1/search?query=Running&type=playlist&offset=0&limit=20', 'items': [{'collaborative': False, 'description': '', 'external_urls': {'spotify': 'https://open.spotify.com/playlist/2sC8kRX5QvTLqsNTMroEEZ'}, 'href': 'https://api.spotify.com/v1/playlists/2sC8kRX5QvTLqsNTMroEEZ', 'id': '2sC8kRX5QvTLqsNTMroEEZ', 'images': [{'height': None, 'url': 'https://i.scdn.co/image/ab67706c0000bebbf083715fab2931b597f0cc88', 'width': None}], 'name': '', 'owner': {'display_name': 'Audrey Sheehan', 'external_urls': {'spotify': 'https://open.spotify.com/user/rvueaomh6zmoohf3d6op4pvuv'}, 'href': 'https://api.spotify.com/v1/users/rvueaomh6zmoohf3d6op4pvuv', 'id': 'rvueaomh6zmoohf3d6op4pvuv', 'type': 'user', 'uri': 'spotify:user:rvueaomh6zmoohf3d6op4pvuv'}, 'primary_color': None, 'public': None, 'snapshot_id': 'NDMwLDUwN2M3MzQyMDlmNWNjZDJkZjk3Y2U2NGNiMjQwYTIyMmI1M2ZjNjU=', 'tracks': {'href': 'https://api.spotify.com/v1/playlists/2sC8kRX5QvTLqsNTMroEEZ/tracks', 'total': 183}, 'type': 'playlist', 'uri': 'spotify:playlist:2sC8kRX5QvTLqsNTMroEEZ'}, {'collaborative': False, 'description': 'Run with running music hits in your workout. Want chill? See our <a href=\"https://open.spotify.com/playlist/4SAp2pqkCTYnu3midNetQ7?si=uyD7Y6jDSoaSFAVDP_o10Q\">Chill House Hits</a> playlist!', 'external_urls': {'spotify': 'https://open.spotify.com/playlist/0JTaSx9jkW1saMOc6t0vIk'}, 'href': 'https://api.spotify.com/v1/playlists/0JTaSx9jkW1saMOc6t0vIk', 'id': '0JTaSx9jkW1saMOc6t0vIk', 'images': [{'height': None, 'url': 'https://i.scdn.co/image/ab67706c0000bebb006f1a4f06c6c4f34a9d4608', 'width': None}], 'name': 'RUNNING Music Hits 2021 🏃\\u200d♂️', 'owner': {'display_name': 'OneSevenMusic', 'external_urls': {'spotify': 'https://open.spotify.com/user/hbhz741mqsyfv0zafwby1nbq0'}, 'href': 'https://api.spotify.com/v1/users/hbhz741mqsyfv0zafwby1nbq0', 'id': 'hbhz741mqsyfv0zafwby1nbq0', 'type': 'user', 'uri': 'spotify:user:hbhz741mqsyfv0zafwby1nbq0'}, 'primary_color': None, 'public': None, 'snapshot_id': 'MTEyMSw5MDk0ZmQ1NzI2Njk2ZmE2NWFkMWFkMTRhM2M2MGRiYTg3ZTkyMjYz', 'tracks': {'href': 'https://api.spotify.com/v1/playlists/0JTaSx9jkW1saMOc6t0vIk/tracks', 'total': 118}, 'type': 'playlist', 'uri': 'spotify:playlist:0JTaSx9jkW1saMOc6t0vIk'}, {'collaborative': False, 'description': 'No need for a gadget, just play these rock songs to set your pace!', 'external_urls': {'spotify': 'https://open.spotify.com/playlist/37i9dQZF1DWZUTt0fNaCPB'}, 'href': 'https://api.spotify.com/v1/playlists/37i9dQZF1DWZUTt0fNaCPB', 'id': '37i9dQZF1DWZUTt0fNaCPB', 'images': [{'height': None, 'url': 'https://i.scdn.co/image/ab67706f000000032b6a4f0a0f453f9b52601dde', 'width': None}], 'name': 'Running to Rock 170-190 BPM', 'owner': {'display_name': 'Spotify', 'external_urls': {'spotify': 'https://open.spotify.com/user/spotify'}, 'href': 'https://api.spotify.com/v1/users/spotify', 'id': 'spotify', 'type': 'user', 'uri': 'spotify:user:spotify'}, 'primary_color': None, 'public': None, 'snapshot_id': 'MTYyMTQyNzgyOSwwMDAwMDAwMGQ0MWQ4Y2Q5OGYwMGIyMDRlOTgwMDk5OGVjZjg0Mjdl', 'tracks': {'href': 'https://api.spotify.com/v1/playlists/37i9dQZF1DWZUTt0fNaCPB/tracks', 'total': 75}, 'type': 'playlist', 'uri': 'spotify:playlist:37i9dQZF1DWZUTt0fNaCPB'}, {'collaborative': False, 'description': \"Whether you're jogging around the block or training for something longer, we've got the tunes - let's run this.\", 'external_urls': {'spotify': 'https://open.spotify.com/playlist/37i9dQZF1DWZ2xRu8ajLOe'}, 'href': 'https://api.spotify.com/v1/playlists/37i9dQZF1DWZ2xRu8ajLOe', 'id': '37i9dQZF1DWZ2xRu8ajLOe', 'images': [{'height': None, 'url': 'https://i.scdn.co/image/ab67706f00000003decb99594937e752d3f8ab3c', 'width': None}], 'name': 'Running UK', 'owner': {'display_name': 'Spotify', 'external_urls': {'spotify': 'https://open.spotify.com/user/spotify'}, 'href': 'https://api.spotify.com/v1/users/spotify', 'id': 'spotify', 'type': 'user', 'uri': 'spotify:user:spotify'}, 'primary_color': None, 'public': None, 'snapshot_id': 'MTYyMTQyNzg4OCwwMDAwMDAwMGQ0MWQ4Y2Q5OGYwMGIyMDRlOTgwMDk5OGVjZjg0Mjdl', 'tracks': {'href': 'https://api.spotify.com/v1/playlists/37i9dQZF1DWZ2xRu8ajLOe/tracks', 'total': 100}, 'type': 'playlist', 'uri': 'spotify:playlist:37i9dQZF1DWZ2xRu8ajLOe'}, {'collaborative': False, 'description': 'Run like the wind! Improve your running workout with these tempo matched hit songs!', 'external_urls': {'spotify': 'https://open.spotify.com/playlist/7gO9WmJaPmIviOlvK1m95P'}, 'href': 'https://api.spotify.com/v1/playlists/7gO9WmJaPmIviOlvK1m95P', 'id': '7gO9WmJaPmIviOlvK1m95P', 'images': [{'height': None, 'url': 'https://i.scdn.co/image/ab67706c0000bebb3db0c4d5f4de8e61978c99e3', 'width': None}], 'name': 'Running Hits - Running Music 2021', 'owner': {'display_name': 'Filtr Finland', 'external_urls': {'spotify': 'https://open.spotify.com/user/sonymusicfinland'}, 'href': 'https://api.spotify.com/v1/users/sonymusicfinland', 'id': 'sonymusicfinland', 'type': 'user', 'uri': 'spotify:user:sonymusicfinland'}, 'primary_color': None, 'public': None, 'snapshot_id': 'MTU4Niw3MTgxYmY3MTgyMWY3NDY2Yjk2ZTVjNWViMGI2YjU0ZjcwMDZjOGQw', 'tracks': {'href': 'https://api.spotify.com/v1/playlists/7gO9WmJaPmIviOlvK1m95P/tracks', 'total': 66}, 'type': 'playlist', 'uri': 'spotify:playlist:7gO9WmJaPmIviOlvK1m95P'}, {'collaborative': False, 'description': 'Songs to make your run or workout a little bit more enjoyable! ', 'external_urls': {'spotify': 'https://open.spotify.com/playlist/0di4SOghem4bqf7KemD1KW'}, 'href': 'https://api.spotify.com/v1/playlists/0di4SOghem4bqf7KemD1KW', 'id': '0di4SOghem4bqf7KemD1KW', 'images': [{'height': None, 'url': 'https://i.scdn.co/image/ab67706c0000bebb6d2399dbe2a0ec5d1a3d77ae', 'width': None}], 'name': 'RUNNING MOTIVATION 🏃🏻\\u200d♀️ HITT WORKOUT ', 'owner': {'display_name': 'Leah <3', 'external_urls': {'spotify': 'https://open.spotify.com/user/leahmurphy924'}, 'href': 'https://api.spotify.com/v1/users/leahmurphy924', 'id': 'leahmurphy924', 'type': 'user', 'uri': 'spotify:user:leahmurphy924'}, 'primary_color': None, 'public': None, 'snapshot_id': 'MTAxNCw0ZWZkZTUxY2U5Yjc5ZjU3ZTNiYjkxZGU5ZTAzNWQ2OTBjODgyOWMy', 'tracks': {'href': 'https://api.spotify.com/v1/playlists/0di4SOghem4bqf7KemD1KW/tracks', 'total': 623}, 'type': 'playlist', 'uri': 'spotify:playlist:0di4SOghem4bqf7KemD1KW'}, {'collaborative': False, 'description': '', 'external_urls': {'spotify': 'https://open.spotify.com/playlist/3vVP7mntRIdq0i5bzvouMt'}, 'href': 'https://api.spotify.com/v1/playlists/3vVP7mntRIdq0i5bzvouMt', 'id': '3vVP7mntRIdq0i5bzvouMt', 'images': [{'height': 640, 'url': 'https://mosaic.scdn.co/640/ab67616d0000b2738b56fd8fb9f486c7ebd2303aab67616d0000b273937af329667311f4b2831616ab67616d0000b273c8e5391a619e9e8ea2162073ab67616d0000b273ff5429125128b43572dbdccd', 'width': 640}, {'height': 300, 'url': 'https://mosaic.scdn.co/300/ab67616d0000b2738b56fd8fb9f486c7ebd2303aab67616d0000b273937af329667311f4b2831616ab67616d0000b273c8e5391a619e9e8ea2162073ab67616d0000b273ff5429125128b43572dbdccd', 'width': 300}, {'height': 60, 'url': 'https://mosaic.scdn.co/60/ab67616d0000b2738b56fd8fb9f486c7ebd2303aab67616d0000b273937af329667311f4b2831616ab67616d0000b273c8e5391a619e9e8ea2162073ab67616d0000b273ff5429125128b43572dbdccd', 'width': 60}], 'name': 'Running Playlist 180bpm', 'owner': {'display_name': 'Tessa Pals', 'external_urls': {'spotify': 'https://open.spotify.com/user/pals.tessa'}, 'href': 'https://api.spotify.com/v1/users/pals.tessa', 'id': 'pals.tessa', 'type': 'user', 'uri': 'spotify:user:pals.tessa'}, 'primary_color': None, 'public': None, 'snapshot_id': 'NjAsZTg0NjNkZTgxYjFiMmQyOTQzYWUwYjFlZGRhMmY5NmVjY2MyNmY2OQ==', 'tracks': {'href': 'https://api.spotify.com/v1/playlists/3vVP7mntRIdq0i5bzvouMt/tracks', 'total': 44}, 'type': 'playlist', 'uri': 'spotify:playlist:3vVP7mntRIdq0i5bzvouMt'}, {'collaborative': False, 'description': 'Train insane with these Bollywood tracks', 'external_urls': {'spotify': 'https://open.spotify.com/playlist/37i9dQZF1DX3wwp27Epwn5'}, 'href': 'https://api.spotify.com/v1/playlists/37i9dQZF1DX3wwp27Epwn5', 'id': '37i9dQZF1DX3wwp27Epwn5', 'images': [{'height': None, 'url': 'https://i.scdn.co/image/ab67706f000000035b9c76fe5ba7bda9fa487e57', 'width': None}], 'name': 'Bollywood Workout', 'owner': {'display_name': 'Spotify', 'external_urls': {'spotify': 'https://open.spotify.com/user/spotify'}, 'href': 'https://api.spotify.com/v1/users/spotify', 'id': 'spotify', 'type': 'user', 'uri': 'spotify:user:spotify'}, 'primary_color': None, 'public': None, 'snapshot_id': 'MTYyMTQyNzg3MSwwMDAwMDAwMGQ0MWQ4Y2Q5OGYwMGIyMDRlOTgwMDk5OGVjZjg0Mjdl', 'tracks': {'href': 'https://api.spotify.com/v1/playlists/37i9dQZF1DX3wwp27Epwn5/tracks', 'total': 60}, 'type': 'playlist', 'uri': 'spotify:playlist:37i9dQZF1DX3wwp27Epwn5'}, {'collaborative': False, 'description': 'Running Songs - Running Music Hits - Songs to run to - Run Music - Running playlist - Electronic Running - Motivation Mix - Treino - Musica para correr -  Deep House Covers', 'external_urls': {'spotify': 'https://open.spotify.com/playlist/4cgeOaRCHDkVDQPaDrRQFR'}, 'href': 'https://api.spotify.com/v1/playlists/4cgeOaRCHDkVDQPaDrRQFR', 'id': '4cgeOaRCHDkVDQPaDrRQFR', 'images': [{'height': None, 'url': 'https://i.scdn.co/image/ab67706c0000bebb5ccd0896ef554c0a25d4c2a4', 'width': None}], 'name': 'RUNNING Music Hits 2021🏃\\u200d♂️Workout Music - Gym Motivation', 'owner': {'display_name': 'LoudKult', 'external_urls': {'spotify': 'https://open.spotify.com/user/43xzlwfo0tft7hn5r5e6dksrd'}, 'href': 'https://api.spotify.com/v1/users/43xzlwfo0tft7hn5r5e6dksrd', 'id': '43xzlwfo0tft7hn5r5e6dksrd', 'type': 'user', 'uri': 'spotify:user:43xzlwfo0tft7hn5r5e6dksrd'}, 'primary_color': None, 'public': None, 'snapshot_id': 'MzI1OSxhYzFhNWNhYWY5ZDA4ZjIxOTU5OTZlOWJmYzkzNjczMTU5YmRjODhm', 'tracks': {'href': 'https://api.spotify.com/v1/playlists/4cgeOaRCHDkVDQPaDrRQFR/tracks', 'total': 107}, 'type': 'playlist', 'uri': 'spotify:playlist:4cgeOaRCHDkVDQPaDrRQFR'}, {'collaborative': False, 'description': 'Up for a nostalgic running session that brings a smile to your face? Press play!', 'external_urls': {'spotify': 'https://open.spotify.com/playlist/37i9dQZF1DX4osfY3zybD2'}, 'href': 'https://api.spotify.com/v1/playlists/37i9dQZF1DX4osfY3zybD2', 'id': '37i9dQZF1DX4osfY3zybD2', 'images': [{'height': None, 'url': 'https://i.scdn.co/image/ab67706f000000031231271e9727ea1a18d0e38e', 'width': None}], 'name': 'Retro Running', 'owner': {'display_name': 'Spotify', 'external_urls': {'spotify': 'https://open.spotify.com/user/spotify'}, 'href': 'https://api.spotify.com/v1/users/spotify', 'id': 'spotify', 'type': 'user', 'uri': 'spotify:user:spotify'}, 'primary_color': None, 'public': None, 'snapshot_id': 'MTYyMTQyNzg0MCwwMDAwMDAwMGQ0MWQ4Y2Q5OGYwMGIyMDRlOTgwMDk5OGVjZjg0Mjdl', 'tracks': {'href': 'https://api.spotify.com/v1/playlists/37i9dQZF1DX4osfY3zybD2/tracks', 'total': 50}, 'type': 'playlist', 'uri': 'spotify:playlist:37i9dQZF1DX4osfY3zybD2'}, {'collaborative': False, 'description': '', 'external_urls': {'spotify': 'https://open.spotify.com/playlist/6TNsAzHaUJvyyZv82Di1uA'}, 'href': 'https://api.spotify.com/v1/playlists/6TNsAzHaUJvyyZv82Di1uA', 'id': '6TNsAzHaUJvyyZv82Di1uA', 'images': [{'height': None, 'url': 'https://i.scdn.co/image/ab67706c0000bebba3e42fdbe9c91bf9245ef8b0', 'width': None}], 'name': 'running playlist to fuel my main character god complex', 'owner': {'display_name': 'katie', 'external_urls': {'spotify': 'https://open.spotify.com/user/dpzk1uidqk8snu9xi9jmk6mhg'}, 'href': 'https://api.spotify.com/v1/users/dpzk1uidqk8snu9xi9jmk6mhg', 'id': 'dpzk1uidqk8snu9xi9jmk6mhg', 'type': 'user', 'uri': 'spotify:user:dpzk1uidqk8snu9xi9jmk6mhg'}, 'primary_color': None, 'public': None, 'snapshot_id': 'MTM5LDg0NWQzMDc5MWM0NDk5MWRhZTE4NmFjMzVhYTFlMjRiMGFhMmE1YWM=', 'tracks': {'href': 'https://api.spotify.com/v1/playlists/6TNsAzHaUJvyyZv82Di1uA/tracks', 'total': 121}, 'type': 'playlist', 'uri': 'spotify:playlist:6TNsAzHaUJvyyZv82Di1uA'}, {'collaborative': False, 'description': 'Best Running and Jogging Music Mix and Running Songs. For submission email submissions@stormmusicgroup.com', 'external_urls': {'spotify': 'https://open.spotify.com/playlist/6MIOcZ4tBKvEiQHzclhVAQ'}, 'href': 'https://api.spotify.com/v1/playlists/6MIOcZ4tBKvEiQHzclhVAQ', 'id': '6MIOcZ4tBKvEiQHzclhVAQ', 'images': [{'height': None, 'url': 'https://i.scdn.co/image/ab67706c0000bebb1587678f64561d5b03c0f3e0', 'width': None}], 'name': 'Running 2021 - Running Music - Running Hits', 'owner': {'display_name': 'Ian Storm', 'external_urls': {'spotify': 'https://open.spotify.com/user/ianstormofficial'}, 'href': 'https://api.spotify.com/v1/users/ianstormofficial', 'id': 'ianstormofficial', 'type': 'user', 'uri': 'spotify:user:ianstormofficial'}, 'primary_color': None, 'public': None, 'snapshot_id': 'ODgzLDYwNTVjNGMyNGMxMmRlNWI1ZTA3NGY1NTE1NGIyN2M2YjA3NTgwNDU=', 'tracks': {'href': 'https://api.spotify.com/v1/playlists/6MIOcZ4tBKvEiQHzclhVAQ/tracks', 'total': 226}, 'type': 'playlist', 'uri': 'spotify:playlist:6MIOcZ4tBKvEiQHzclhVAQ'}, {'collaborative': False, 'description': 'Soft and nice electronic music for running.', 'external_urls': {'spotify': 'https://open.spotify.com/playlist/37i9dQZF1DX4Y1uAfxGdKJ'}, 'href': 'https://api.spotify.com/v1/playlists/37i9dQZF1DX4Y1uAfxGdKJ', 'id': '37i9dQZF1DX4Y1uAfxGdKJ', 'images': [{'height': None, 'url': 'https://i.scdn.co/image/ab67706f0000000309c37f22c6febd8892f3e927', 'width': None}], 'name': 'Electronic Running', 'owner': {'display_name': 'Spotify', 'external_urls': {'spotify': 'https://open.spotify.com/user/spotify'}, 'href': 'https://api.spotify.com/v1/users/spotify', 'id': 'spotify', 'type': 'user', 'uri': 'spotify:user:spotify'}, 'primary_color': None, 'public': None, 'snapshot_id': 'MTYxOTY4ODU4MCwwMDAwMDAzYTAwMDAwMTc5MWNmNjY0NmEwMDAwMDE3MGM0OTdhNzI5', 'tracks': {'href': 'https://api.spotify.com/v1/playlists/37i9dQZF1DX4Y1uAfxGdKJ/tracks', 'total': 72}, 'type': 'playlist', 'uri': 'spotify:playlist:37i9dQZF1DX4Y1uAfxGdKJ'}, {'collaborative': False, 'description': '', 'external_urls': {'spotify': 'https://open.spotify.com/playlist/28aoRaVHiDxC4OVjwHuLLZ'}, 'href': 'https://api.spotify.com/v1/playlists/28aoRaVHiDxC4OVjwHuLLZ', 'id': '28aoRaVHiDxC4OVjwHuLLZ', 'images': [{'height': 640, 'url': 'https://mosaic.scdn.co/640/ab67616d0000b273136d7250568820409f8fdd60ab67616d0000b2739d1dfd86a53a541fdb7e9c63ab67616d0000b273e38d2b5ecd8ec24b6145d432ab67616d0000b273f4a2ccbe20d6d52f16816812', 'width': 640}, {'height': 300, 'url': 'https://mosaic.scdn.co/300/ab67616d0000b273136d7250568820409f8fdd60ab67616d0000b2739d1dfd86a53a541fdb7e9c63ab67616d0000b273e38d2b5ecd8ec24b6145d432ab67616d0000b273f4a2ccbe20d6d52f16816812', 'width': 300}, {'height': 60, 'url': 'https://mosaic.scdn.co/60/ab67616d0000b273136d7250568820409f8fdd60ab67616d0000b2739d1dfd86a53a541fdb7e9c63ab67616d0000b273e38d2b5ecd8ec24b6145d432ab67616d0000b273f4a2ccbe20d6d52f16816812', 'width': 60}], 'name': 'Running 80´s - 90´s', 'owner': {'display_name': 'innovasport', 'external_urls': {'spotify': 'https://open.spotify.com/user/innovasport'}, 'href': 'https://api.spotify.com/v1/users/innovasport', 'id': 'innovasport', 'type': 'user', 'uri': 'spotify:user:innovasport'}, 'primary_color': None, 'public': None, 'snapshot_id': 'MTY1LDVhNjU2Mzc3ODJkOWI5OGM0YmZkMTZkMmI4ZTBhM2RiZGFmOTExYTU=', 'tracks': {'href': 'https://api.spotify.com/v1/playlists/28aoRaVHiDxC4OVjwHuLLZ/tracks', 'total': 101}, 'type': 'playlist', 'uri': 'spotify:playlist:28aoRaVHiDxC4OVjwHuLLZ'}, {'collaborative': False, 'description': '📷 @playlists.ifmmusic Rap Music 2021 | Hip-Hop music | Running songs | Best Running Music | WEEKLY UPDATE!', 'external_urls': {'spotify': 'https://open.spotify.com/playlist/4UdVTRkzvgohO9FL3CPG5v'}, 'href': 'https://api.spotify.com/v1/playlists/4UdVTRkzvgohO9FL3CPG5v', 'id': '4UdVTRkzvgohO9FL3CPG5v', 'images': [{'height': None, 'url': 'https://i.scdn.co/image/ab67706c0000bebb93f94ba39df8ae5292f6bf83', 'width': None}], 'name': 'RUNNING RAP MUSIC 2021 🏃', 'owner': {'display_name': 'IFM Playlists', 'external_urls': {'spotify': 'https://open.spotify.com/user/cvm7e742hg3fh5w2gcw35vdlq'}, 'href': 'https://api.spotify.com/v1/users/cvm7e742hg3fh5w2gcw35vdlq', 'id': 'cvm7e742hg3fh5w2gcw35vdlq', 'type': 'user', 'uri': 'spotify:user:cvm7e742hg3fh5w2gcw35vdlq'}, 'primary_color': None, 'public': None, 'snapshot_id': 'OTgxLGMzMjExNzQ3Y2RkMmJmZTZiNmYwMTIzNTMyZWYxNTZlZmY1Y2FjZmQ=', 'tracks': {'href': 'https://api.spotify.com/v1/playlists/4UdVTRkzvgohO9FL3CPG5v/tracks', 'total': 80}, 'type': 'playlist', 'uri': 'spotify:playlist:4UdVTRkzvgohO9FL3CPG5v'}, {'collaborative': False, 'description': '', 'external_urls': {'spotify': 'https://open.spotify.com/playlist/2e6xhzX7jV0qTQanSdCyWL'}, 'href': 'https://api.spotify.com/v1/playlists/2e6xhzX7jV0qTQanSdCyWL', 'id': '2e6xhzX7jV0qTQanSdCyWL', 'images': [{'height': 640, 'url': 'https://mosaic.scdn.co/640/ab67616d0000b273428d2255141c2119409a31b2ab67616d0000b273b19d1cc6a00ae1d4ddcbfd37ab67616d0000b273cf0f0affd0138a7442f13706ab67616d0000b273ee0f38410382a255e4fb15f4', 'width': 640}, {'height': 300, 'url': 'https://mosaic.scdn.co/300/ab67616d0000b273428d2255141c2119409a31b2ab67616d0000b273b19d1cc6a00ae1d4ddcbfd37ab67616d0000b273cf0f0affd0138a7442f13706ab67616d0000b273ee0f38410382a255e4fb15f4', 'width': 300}, {'height': 60, 'url': 'https://mosaic.scdn.co/60/ab67616d0000b273428d2255141c2119409a31b2ab67616d0000b273b19d1cc6a00ae1d4ddcbfd37ab67616d0000b273cf0f0affd0138a7442f13706ab67616d0000b273ee0f38410382a255e4fb15f4', 'width': 60}], 'name': 'running playlist ', 'owner': {'display_name': 'Jaylin Gonzales', 'external_urls': {'spotify': 'https://open.spotify.com/user/222otim6xsnpwypetpui73wjq'}, 'href': 'https://api.spotify.com/v1/users/222otim6xsnpwypetpui73wjq', 'id': '222otim6xsnpwypetpui73wjq', 'type': 'user', 'uri': 'spotify:user:222otim6xsnpwypetpui73wjq'}, 'primary_color': None, 'public': None, 'snapshot_id': 'NDAsOGM2MjhhMTcwY2U1ZmYzMDFiZTBmZThmMjRhYmU4MDY4YWZiYjJiMg==', 'tracks': {'href': 'https://api.spotify.com/v1/playlists/2e6xhzX7jV0qTQanSdCyWL/tracks', 'total': 35}, 'type': 'playlist', 'uri': 'spotify:playlist:2e6xhzX7jV0qTQanSdCyWL'}, {'collaborative': False, 'description': 'It&#x27;s always &quot;wyd&quot; and never &quot;I love you. Most ardently. You have bewitched me in body and soul, and I love, I love, I love you.&quot;', 'external_urls': {'spotify': 'https://open.spotify.com/playlist/65KRfEjppk8fTEOrKMX6tI'}, 'href': 'https://api.spotify.com/v1/playlists/65KRfEjppk8fTEOrKMX6tI', 'id': '65KRfEjppk8fTEOrKMX6tI', 'images': [{'height': None, 'url': 'https://i.scdn.co/image/ab67706c0000bebbe62f40167ec1e88f759bb8ce', 'width': None}], 'name': 'Running Around the Castle at Midnight', 'owner': {'display_name': 'Beez Dentzer', 'external_urls': {'spotify': 'https://open.spotify.com/user/beezrules'}, 'href': 'https://api.spotify.com/v1/users/beezrules', 'id': 'beezrules', 'type': 'user', 'uri': 'spotify:user:beezrules'}, 'primary_color': None, 'public': None, 'snapshot_id': 'MTA5LDFlNjQ0ZjI3NTRjYmM5MGZkZjM2NDZiM2U5ZWQzYzJkNTIwYzFlMGM=', 'tracks': {'href': 'https://api.spotify.com/v1/playlists/65KRfEjppk8fTEOrKMX6tI/tracks', 'total': 44}, 'type': 'playlist', 'uri': 'spotify:playlist:65KRfEjppk8fTEOrKMX6tI'}, {'collaborative': False, 'description': 'From pavement to trail-- power through your run with songs that move you forward.', 'external_urls': {'spotify': 'https://open.spotify.com/playlist/13thjkLTYZmZvjdz4u6kxh'}, 'href': 'https://api.spotify.com/v1/playlists/13thjkLTYZmZvjdz4u6kxh', 'id': '13thjkLTYZmZvjdz4u6kxh', 'images': [{'height': None, 'url': 'https://i.scdn.co/image/ab67706c0000bebbaddc67862616608370fedc05', 'width': None}], 'name': 'Running Tempo Mix', 'owner': {'display_name': 'Nike Women', 'external_urls': {'spotify': 'https://open.spotify.com/user/nikewomen'}, 'href': 'https://api.spotify.com/v1/users/nikewomen', 'id': 'nikewomen', 'type': 'user', 'uri': 'spotify:user:nikewomen'}, 'primary_color': None, 'public': None, 'snapshot_id': 'NDkyLDc2M2E0ZTMwMTYxODlkOTljNzUzYTgxNTlhYWFhMTc4MTI0ZTY4ZjE=', 'tracks': {'href': 'https://api.spotify.com/v1/playlists/13thjkLTYZmZvjdz4u6kxh/tracks', 'total': 104}, 'type': 'playlist', 'uri': 'spotify:playlist:13thjkLTYZmZvjdz4u6kxh'}, {'collaborative': False, 'description': 'Running Music Hits - Songs To run to - Run Music - Running playlist - Electronic Running - Motivation Mix - Treino - Correr', 'external_urls': {'spotify': 'https://open.spotify.com/playlist/5MLyX3xiNllq052FsL47Ga'}, 'href': 'https://api.spotify.com/v1/playlists/5MLyX3xiNllq052FsL47Ga', 'id': '5MLyX3xiNllq052FsL47Ga', 'images': [{'height': None, 'url': 'https://i.scdn.co/image/ab67706c0000bebb07eefa485ecdc2359f6dd2bd', 'width': None}], 'name': 'Jogging Music 2021 🏃\\u200d♀️ Running Hits', 'owner': {'display_name': 'LoudKult', 'external_urls': {'spotify': 'https://open.spotify.com/user/43xzlwfo0tft7hn5r5e6dksrd'}, 'href': 'https://api.spotify.com/v1/users/43xzlwfo0tft7hn5r5e6dksrd', 'id': '43xzlwfo0tft7hn5r5e6dksrd', 'type': 'user', 'uri': 'spotify:user:43xzlwfo0tft7hn5r5e6dksrd'}, 'primary_color': None, 'public': None, 'snapshot_id': 'NTA2LDNlMjk4YTA5MzYzMGZjZmU4YTEwZTU4Yzg2NjI4ZDY3N2JjYzlhYWM=', 'tracks': {'href': 'https://api.spotify.com/v1/playlists/5MLyX3xiNllq052FsL47Ga/tracks', 'total': 186}, 'type': 'playlist', 'uri': 'spotify:playlist:5MLyX3xiNllq052FsL47Ga'}, {'collaborative': False, 'description': 'ch 42 of isolation ', 'external_urls': {'spotify': 'https://open.spotify.com/playlist/33dC09prS0NZaxLqQQzUBl'}, 'href': 'https://api.spotify.com/v1/playlists/33dC09prS0NZaxLqQQzUBl', 'id': '33dC09prS0NZaxLqQQzUBl', 'images': [{'height': None, 'url': 'https://i.scdn.co/image/ab67706c0000bebbb7d623689a22fdb31cc55fc0', 'width': None}], 'name': 'running through a castle in a soaking wet dress during war', 'owner': {'display_name': 'sam korn', 'external_urls': {'spotify': 'https://open.spotify.com/user/121296006'}, 'href': 'https://api.spotify.com/v1/users/121296006', 'id': '121296006', 'type': 'user', 'uri': 'spotify:user:121296006'}, 'primary_color': None, 'public': None, 'snapshot_id': 'NjUsYTA1ZTUyYjgzYzQ5ODMzZmVkMmI0OTc0ZTA0NDM1OGE2NmNhODFmNA==', 'tracks': {'href': 'https://api.spotify.com/v1/playlists/33dC09prS0NZaxLqQQzUBl/tracks', 'total': 54}, 'type': 'playlist', 'uri': 'spotify:playlist:33dC09prS0NZaxLqQQzUBl'}], 'limit': 20, 'next': 'https://api.spotify.com/v1/search?query=Running&type=playlist&offset=20&limit=20', 'offset': 0, 'previous': None, 'total': 608443}}\n"
     ]
    }
   ],
   "source": [
    "client_id = 'f004c13efcfe46fbafedccbfbf106f67'\n",
    "client_secret = '0b1b6068ebe24f3286edeaf69f88c02b'\n",
    "client_creds = f'{client_id}:{client_secret}'\n",
    "client_creds_b64 = base64.b64encode(client_creds.encode())\n",
    "    \n",
    "# using client ID and secret to get a token to be used for each requests\n",
    "token_url = 'https://accounts.spotify.com/api/token' # found following https://developer.spotify.com/documentation/general/guides/authorization-guide/#client-credentials-flow\n",
    "method = 'POST'\n",
    "token_data = {\n",
    "    'grant_type': 'client_credentials'\n",
    "}\n",
    "token_headers = {\n",
    "    'Authorization': f\"Basic {client_creds_b64.decode()}\" #<base64 encoded client_id:client_secret>\n",
    "}\n",
    "# get the token\n",
    "r = requests.post(token_url, data=token_data, headers=token_headers)\n",
    "valid_request = r.status_code in range(200, 299)\n",
    "if valid_request:\n",
    "#     now = datetime.datetime.now\n",
    "    access_token = r.json()['access_token']\n",
    "#     expires_in = r.json()['expires_in'] # in seconds\n",
    "#     expires = now + datetime.timedelta(seconds=expires_in)\n",
    "#     did_expire = expires < now\n",
    "\n",
    "# API call example from https://developer.spotify.com/documentation/web-api/reference/#category-search\n",
    "search_item = \"Running\"\n",
    "type_to_search = \"playlist\"\n",
    "headers = {\n",
    "    \"Authorization\": f\"Bearer {access_token}\"\n",
    "}\n",
    "endpoint = 'https://api.spotify.com/v1/search'\n",
    "data = urlencode({\"q\": search_item, \"type\": type_to_search})\n",
    "\n",
    "lookup_url = f\"{endpoint}?{data}\"\n",
    "\n",
    "response = requests.get(lookup_url, headers=headers)\n",
    "\n",
    "print(response.status_code)\n",
    "print(response.json())\n"
   ]
  },
  {
   "cell_type": "code",
   "execution_count": null,
   "metadata": {},
   "outputs": [],
   "source": []
  }
 ],
 "metadata": {
  "kernelspec": {
   "display_name": "Python 3",
   "language": "python",
   "name": "python3"
  },
  "language_info": {
   "codemirror_mode": {
    "name": "ipython",
    "version": 3
   },
   "file_extension": ".py",
   "mimetype": "text/x-python",
   "name": "python",
   "nbconvert_exporter": "python",
   "pygments_lexer": "ipython3",
   "version": "3.8.5"
  }
 },
 "nbformat": 4,
 "nbformat_minor": 4
}
