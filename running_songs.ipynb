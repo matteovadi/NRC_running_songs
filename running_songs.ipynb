{
 "cells": [
  {
   "cell_type": "markdown",
   "metadata": {},
   "source": [
    "# Running in the title\n",
    "Exploring Spotify playlists with the word \"running\" in the title"
   ]
  },
  {
   "cell_type": "code",
   "execution_count": 1,
   "metadata": {},
   "outputs": [],
   "source": [
    "# pip install musixmatch\n",
    "# pip install textblob\n",
    "# pip install gensim\n",
    "# pip install wordcloud\n",
    "# pip install spotify\n",
    "# pip install base64\n",
    "\n",
    "#Import libraries\n",
    "from os.path import dirname # to import or export list of songs / lyrics \n",
    "import pandas as pd\n",
    "\n",
    "#Musixmatch and Spotify API calls and processing of responses\n",
    "import spotify.sync as spotify\n",
    "import base64\n",
    "# import datetime\n",
    "\n",
    "import musixmatch #musixmatch apis to get song data\n",
    "import requests\n",
    "# import urllib\n",
    "from urllib.parse import urlencode\n",
    "\n",
    "# import re\n",
    "# import json #to process musixmatch response which is in json format\n",
    "\n",
    "# #Machine learning libraries for Text analysis\n",
    "# import nltk  # machine learning with text\n",
    "# from nltk import download as nltk_download\n",
    "# from nltk.corpus import stopwords, wordnet  # List of common words\n",
    "# from nltk.tokenize import word_tokenize  # Split text into significant forms\n",
    "# from nltk.stem import WordNetLemmatizer  # Reduce words to their root form\n",
    "# from nltk import pos_tag  # Tag words with parts of speech\n",
    "# from collections import defaultdict  # Dictionaries that have a backup value\n",
    "# from sklearn.feature_extraction.text import CountVectorizer  # Convert text to sparse matrices\n",
    "# from textblob import TextBlob  # Sentiment analysis\n",
    "# from gensim.models.ldamodel import LdaModel  # Topic extraction\n",
    "# from gensim.models.phrases import Phrases  # ngrams\n",
    "# from gensim import corpora  # Vectorization\n",
    "\n",
    "# #Visualization\n",
    "# import matplotlib.pylab as plt\n",
    "# # import pyLDAvis.gensim  # Visualise topics\n",
    "# from wordcloud import WordCloud  # Create wordclouds"
   ]
  },
  {
   "cell_type": "code",
   "execution_count": 2,
   "metadata": {},
   "outputs": [],
   "source": [
    "# # api key and base url for musixmatch\n",
    "# apikey_musixmatch = 'd970c8b445abece0126552e40164fa8e'\n",
    "# apiurl_musixmatch = 'http://api.musixmatch.com/ws/1.1/'"
   ]
  },
  {
   "cell_type": "code",
   "execution_count": 3,
   "metadata": {},
   "outputs": [
    {
     "name": "stdout",
     "output_type": "stream",
     "text": [
      "200\n",
      "{'playlists': {'href': 'https://api.spotify.com/v1/search?query=Running&type=playlist&offset=0&limit=1', 'items': [{'collaborative': False, 'description': 'Run with running music hits in your workout. Want chill? See our <a href=\"https://open.spotify.com/playlist/4SAp2pqkCTYnu3midNetQ7?si=uyD7Y6jDSoaSFAVDP_o10Q\">Chill House Hits</a> playlist!', 'external_urls': {'spotify': 'https://open.spotify.com/playlist/0JTaSx9jkW1saMOc6t0vIk'}, 'href': 'https://api.spotify.com/v1/playlists/0JTaSx9jkW1saMOc6t0vIk', 'id': '0JTaSx9jkW1saMOc6t0vIk', 'images': [{'height': None, 'url': 'https://i.scdn.co/image/ab67706c0000bebb006f1a4f06c6c4f34a9d4608', 'width': None}], 'name': 'RUNNING Music Hits 2021 🏃\\u200d♂️', 'owner': {'display_name': 'OneSevenMusic', 'external_urls': {'spotify': 'https://open.spotify.com/user/hbhz741mqsyfv0zafwby1nbq0'}, 'href': 'https://api.spotify.com/v1/users/hbhz741mqsyfv0zafwby1nbq0', 'id': 'hbhz741mqsyfv0zafwby1nbq0', 'type': 'user', 'uri': 'spotify:user:hbhz741mqsyfv0zafwby1nbq0'}, 'primary_color': None, 'public': None, 'snapshot_id': 'MTEyMSw5MDk0ZmQ1NzI2Njk2ZmE2NWFkMWFkMTRhM2M2MGRiYTg3ZTkyMjYz', 'tracks': {'href': 'https://api.spotify.com/v1/playlists/0JTaSx9jkW1saMOc6t0vIk/tracks', 'total': 118}, 'type': 'playlist', 'uri': 'spotify:playlist:0JTaSx9jkW1saMOc6t0vIk'}], 'limit': 1, 'next': 'https://api.spotify.com/v1/search?query=Running&type=playlist&offset=1&limit=1', 'offset': 0, 'previous': None, 'total': 608952}}\n"
     ]
    }
   ],
   "source": [
    "# setting up spotify credetnials\n",
    "client_id = '...'\n",
    "client_secret = '...'\n",
    "client_creds = f'{client_id}:{client_secret}'\n",
    "client_creds_b64 = base64.b64encode(client_creds.encode())\n",
    "    \n",
    "# using client ID and secret to get a token to be used for each requests\n",
    "token_url = 'https://accounts.spotify.com/api/token' # found following https://developer.spotify.com/documentation/general/guides/authorization-guide/#client-credentials-flow\n",
    "method = 'POST'\n",
    "token_data = {\n",
    "    'grant_type': 'client_credentials'\n",
    "}\n",
    "token_headers = {\n",
    "    'Authorization': f\"Basic {client_creds_b64.decode()}\" #<base64 encoded client_id:client_secret>\n",
    "}\n",
    "# get the token\n",
    "r = requests.post(token_url, data=token_data, headers=token_headers)\n",
    "valid_request = r.status_code in range(200, 299)\n",
    "if valid_request:\n",
    "#     now = datetime.datetime.now\n",
    "    access_token = r.json()['access_token']\n",
    "#     expires_in = r.json()['expires_in'] # in seconds\n",
    "#     expires = now + datetime.timedelta(seconds=expires_in)\n",
    "#     did_expire = expires < now\n",
    "\n",
    "# API call example from https://developer.spotify.com/documentation/web-api/reference/#category-search\n",
    "search_item = \"Running\"\n",
    "type_to_search = \"playlist\"\n",
    "headers = {\n",
    "    \"Authorization\": f\"Bearer {access_token}\"\n",
    "}\n",
    "endpoint = 'https://api.spotify.com/v1/search'\n",
    "data = urlencode({\"q\": search_item, \"type\": type_to_search, \"limit\":1, \"offset\":0})\n",
    "\n",
    "lookup_url = f\"{endpoint}?{data}\"\n",
    "\n",
    "single_playlist = requests.get(lookup_url, headers=headers)\n",
    "\n",
    "print(single_playlist.status_code)\n",
    "print(single_playlist.json())\n",
    "\n",
    "\n",
    "\n"
   ]
  },
  {
   "cell_type": "code",
   "execution_count": null,
   "metadata": {},
   "outputs": [],
   "source": []
  }
 ],
 "metadata": {
  "kernelspec": {
   "display_name": "Python 3",
   "language": "python",
   "name": "python3"
  },
  "language_info": {
   "codemirror_mode": {
    "name": "ipython",
    "version": 3
   },
   "file_extension": ".py",
   "mimetype": "text/x-python",
   "name": "python",
   "nbconvert_exporter": "python",
   "pygments_lexer": "ipython3",
   "version": "3.8.5"
  }
 },
 "nbformat": 4,
 "nbformat_minor": 4
}
