{
 "cells": [
  {
   "cell_type": "markdown",
   "metadata": {},
   "source": [
    "# Running in the title\n",
    "Exploring Spotify playlists with the word \"running\" in the title"
   ]
  },
  {
   "cell_type": "code",
   "execution_count": 22,
   "metadata": {},
   "outputs": [],
   "source": [
    "# pip install spotify\n",
    "# pip install base64\n",
    "# pip install lyricsgenius\n",
    "\n",
    "import spotify.sync as spotify\n",
    "import base64\n",
    "# import datetime\n",
    "import requests\n",
    "# import urllib\n",
    "from urllib.parse import urlencode"
   ]
  },
  {
   "cell_type": "code",
   "execution_count": 23,
   "metadata": {},
   "outputs": [
    {
     "name": "stdout",
     "output_type": "stream",
     "text": [
      "200\n",
      "{'playlists': {'href': 'https://api.spotify.com/v1/search?query=Running&type=playlist&offset=0&limit=1', 'items': [{'collaborative': False, 'description': 'Run with running music hits in your workout. Want chill? See our <a href=\"https://open.spotify.com/playlist/4SAp2pqkCTYnu3midNetQ7?si=uyD7Y6jDSoaSFAVDP_o10Q\">Chill House Hits</a> playlist!', 'external_urls': {'spotify': 'https://open.spotify.com/playlist/0JTaSx9jkW1saMOc6t0vIk'}, 'href': 'https://api.spotify.com/v1/playlists/0JTaSx9jkW1saMOc6t0vIk', 'id': '0JTaSx9jkW1saMOc6t0vIk', 'images': [{'height': None, 'url': 'https://i.scdn.co/image/ab67706c0000bebb006f1a4f06c6c4f34a9d4608', 'width': None}], 'name': 'RUNNING Music Hits 2021 🏃\\u200d♂️', 'owner': {'display_name': 'OneSevenMusic', 'external_urls': {'spotify': 'https://open.spotify.com/user/hbhz741mqsyfv0zafwby1nbq0'}, 'href': 'https://api.spotify.com/v1/users/hbhz741mqsyfv0zafwby1nbq0', 'id': 'hbhz741mqsyfv0zafwby1nbq0', 'type': 'user', 'uri': 'spotify:user:hbhz741mqsyfv0zafwby1nbq0'}, 'primary_color': None, 'public': None, 'snapshot_id': 'MTEyMSw5MDk0ZmQ1NzI2Njk2ZmE2NWFkMWFkMTRhM2M2MGRiYTg3ZTkyMjYz', 'tracks': {'href': 'https://api.spotify.com/v1/playlists/0JTaSx9jkW1saMOc6t0vIk/tracks', 'total': 118}, 'type': 'playlist', 'uri': 'spotify:playlist:0JTaSx9jkW1saMOc6t0vIk'}], 'limit': 1, 'next': 'https://api.spotify.com/v1/search?query=Running&type=playlist&offset=1&limit=1', 'offset': 0, 'previous': None, 'total': 608827}}\n"
     ]
    }
   ],
   "source": [
    "# setting up spotify credetnials\n",
    "spotify_client_id = 'f004c13efcfe46fbafedccbfbf106f67'\n",
    "spotify_client_secret = 'd8de81377b164216b449bbc77ccb29b9'\n",
    "spotify_client_creds = f'{spotify_client_id}:{spotify_client_secret}'\n",
    "spotify_client_creds_b64 = base64.b64encode(spotify_client_creds.encode())\n",
    "    \n",
    "# using client ID and secret to get a token to be used for each requests\n",
    "spotify_token_url = 'https://accounts.spotify.com/api/token' # https://developer.spotify.com/documentation/general/guides/authorization-guide/#client-credentials-flow\n",
    "spotify_token_data = {\n",
    "    'grant_type': 'client_credentials'\n",
    "}\n",
    "\n",
    "spotify_token_headers = {\n",
    "    'Authorization': f\"Basic {spotify_client_creds_b64.decode()}\" #<base64 encoded client_id:client_secret>\n",
    "}\n",
    "# get the token with a POST request\n",
    "r = requests.post(spotify_token_url, data=spotify_token_data, headers=spotify_token_headers)\n",
    "valid_request = r.status_code in range(200, 299)\n",
    "if valid_request:\n",
    "#     now = datetime.datetime.now\n",
    "    spotify_access_token = r.json()['access_token']\n",
    "#     expires_in = r.json()['expires_in'] # in seconds\n",
    "#     expires = now + datetime.timedelta(seconds=expires_in)\n",
    "#     did_expire = expires < now\n",
    "\n",
    "# API call from https://developer.spotify.com/documentation/web-api/reference/#category-search\n",
    "search_item = \"Running\"\n",
    "type_to_search = \"playlist\"\n",
    "spotify_headers = {\n",
    "    \"Authorization\": f\"Bearer {spotify_access_token}\"\n",
    "}\n",
    "endpoint = 'https://api.spotify.com/v1/search'\n",
    "data = urlencode({\"q\": search_item, \"type\": type_to_search, \"limit\":1, \"offset\":0})\n",
    "\n",
    "lookup_url = f\"{endpoint}?{data}\"\n",
    "\n",
    "spotify_single_playlist = requests.get(lookup_url, headers=spotify_headers)\n",
    "\n",
    "print(spotify_single_playlist.status_code)\n",
    "print(spotify_single_playlist.json())"
   ]
  },
  {
   "cell_type": "code",
   "execution_count": 24,
   "metadata": {},
   "outputs": [
    {
     "name": "stdout",
     "output_type": "stream",
     "text": [
      "200\n",
      "{'items': [{'track': {'name': 'Friday (feat. Mufasa & Hypeman) - Dopamine Re-Edit'}}, {'track': {'name': 'Bass Goes Down'}}, {'track': {'name': 'BED'}}, {'track': {'name': 'Sex on Fire'}}, {'track': {'name': 'Going Down'}}, {'track': {'name': 'Rasputin'}}, {'track': {'name': 'All That She Wants'}}, {'track': {'name': 'The Business'}}, {'track': {'name': '2019'}}, {'track': {'name': 'Drivers License'}}]}\n"
     ]
    }
   ],
   "source": [
    "spotify_playlist_id = spotify_single_playlist.json()[\"playlists\"][\"items\"][0][\"id\"]\n",
    "endpoint = f'https://api.spotify.com/v1/playlists/{playlist_id}/tracks'\n",
    "data = urlencode({\"market\": \"IT\", \"limit\":10, \"offset\":0, \"fields\": \"items(track(name))\"})\n",
    "lookup_url = f\"{endpoint}?{data}\"\n",
    "\n",
    "spotify_tracks_playlist = requests.get(lookup_url, headers=spotify_headers)\n",
    "print(spotify_tracks_playlist.status_code)\n",
    "print(spotify_tracks_playlist.json())"
   ]
  },
  {
   "cell_type": "markdown",
   "metadata": {},
   "source": [
    "### check the expiration time if involving everything in a for loop (pay attention to offset param)"
   ]
  },
  {
   "cell_type": "code",
   "execution_count": 25,
   "metadata": {},
   "outputs": [],
   "source": [
    "import lyricsgenius\n",
    "genius_token = \"aqywq3XgCMcEOjXsTRV-eO9xIrVC88Bdgm0CnWe_70wNfCo777O_GDB_BqltRMck\"\n",
    "genius = lyricsgenius.Genius(genius_token)"
   ]
  },
  {
   "cell_type": "code",
   "execution_count": 26,
   "metadata": {},
   "outputs": [
    {
     "name": "stdout",
     "output_type": "stream",
     "text": [
      "Searching for songs by Andy Shauf...\n",
      "\n",
      "Song 1: \"Alexander All Alone\"\n",
      "Song 2: \"All the Same\"\n",
      "Song 3: \"Angela\"\n",
      "\n",
      "Reached user-specified song limit (3).\n",
      "Done. Found 3 songs.\n",
      "[Song(id, artist, ...), Song(id, artist, ...), Song(id, artist, ...)]\n"
     ]
    }
   ],
   "source": [
    "# Example\n",
    "artist = genius.search_artist(\"Andy Shauf\", max_songs=3, sort=\"title\")\n",
    "print(artist.songs)"
   ]
  }
 ],
 "metadata": {
  "kernelspec": {
   "display_name": "Python 3",
   "language": "python",
   "name": "python3"
  },
  "language_info": {
   "codemirror_mode": {
    "name": "ipython",
    "version": 3
   },
   "file_extension": ".py",
   "mimetype": "text/x-python",
   "name": "python",
   "nbconvert_exporter": "python",
   "pygments_lexer": "ipython3",
   "version": "3.8.5"
  }
 },
 "nbformat": 4,
 "nbformat_minor": 4
}
