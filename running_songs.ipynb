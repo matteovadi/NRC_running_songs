{
 "cells": [
  {
   "cell_type": "markdown",
   "metadata": {},
   "source": [
    "# Running in the title\n",
    "Exploring Spotify playlists with the word \"running\" in the title"
   ]
  },
  {
   "cell_type": "code",
   "execution_count": 1,
   "metadata": {},
   "outputs": [],
   "source": [
    "# pip install spotify\n",
    "# pip install base64\n",
    "# pip install lyricsgenius\n",
    "\n",
    "import spotify.sync as spotify\n",
    "import base64\n",
    "# import datetime\n",
    "import requests\n",
    "from urllib.parse import urlencode"
   ]
  },
  {
   "cell_type": "code",
   "execution_count": 2,
   "metadata": {},
   "outputs": [
    {
     "name": "stdout",
     "output_type": "stream",
     "text": [
      "200\n",
      "{'playlists': {'href': 'https://api.spotify.com/v1/search?query=Running&type=playlist&offset=0&limit=1', 'items': [{'collaborative': False, 'description': 'Run with running music hits in your workout. Want chill? See our <a href=\"https://open.spotify.com/playlist/4SAp2pqkCTYnu3midNetQ7?si=uyD7Y6jDSoaSFAVDP_o10Q\">Chill House Hits</a> playlist!', 'external_urls': {'spotify': 'https://open.spotify.com/playlist/0JTaSx9jkW1saMOc6t0vIk'}, 'href': 'https://api.spotify.com/v1/playlists/0JTaSx9jkW1saMOc6t0vIk', 'id': '0JTaSx9jkW1saMOc6t0vIk', 'images': [{'height': None, 'url': 'https://i.scdn.co/image/ab67706c0000bebb006f1a4f06c6c4f34a9d4608', 'width': None}], 'name': 'RUNNING Music Hits 2021 🏃\\u200d♂️', 'owner': {'display_name': 'OneSevenMusic', 'external_urls': {'spotify': 'https://open.spotify.com/user/hbhz741mqsyfv0zafwby1nbq0'}, 'href': 'https://api.spotify.com/v1/users/hbhz741mqsyfv0zafwby1nbq0', 'id': 'hbhz741mqsyfv0zafwby1nbq0', 'type': 'user', 'uri': 'spotify:user:hbhz741mqsyfv0zafwby1nbq0'}, 'primary_color': None, 'public': None, 'snapshot_id': 'MTE5NSwzMzJiOGVhM2NlYWFjZjg5Zjk5ODFjN2QyZTJiZTk3NTc3NTBlODNj', 'tracks': {'href': 'https://api.spotify.com/v1/playlists/0JTaSx9jkW1saMOc6t0vIk/tracks', 'total': 115}, 'type': 'playlist', 'uri': 'spotify:playlist:0JTaSx9jkW1saMOc6t0vIk'}], 'limit': 1, 'next': 'https://api.spotify.com/v1/search?query=Running&type=playlist&offset=1&limit=1', 'offset': 0, 'previous': None, 'total': 600044}}\n"
     ]
    }
   ],
   "source": [
    "# setting up spotify credetnials\n",
    "spotify_client_id = 'f004c13efcfe46fbafedccbfbf106f67'\n",
    "spotify_client_secret = 'd8de81377b164216b449bbc77ccb29b9'\n",
    "spotify_client_creds = f'{spotify_client_id}:{spotify_client_secret}'\n",
    "spotify_client_creds_b64 = base64.b64encode(spotify_client_creds.encode())\n",
    "    \n",
    "# using client ID and secret to get a token to be used for each requests\n",
    "spotify_token_url = 'https://accounts.spotify.com/api/token' # https://developer.spotify.com/documentation/general/guides/authorization-guide/#client-credentials-flow\n",
    "spotify_token_data = {\n",
    "    'grant_type': 'client_credentials'\n",
    "}\n",
    "\n",
    "spotify_token_headers = {\n",
    "    'Authorization': f\"Basic {spotify_client_creds_b64.decode()}\" #<base64 encoded client_id:client_secret>\n",
    "}\n",
    "# get the token with a POST request\n",
    "r = requests.post(spotify_token_url, data=spotify_token_data, headers=spotify_token_headers)\n",
    "valid_request = r.status_code in range(200, 299)\n",
    "if valid_request:\n",
    "#     now = datetime.datetime.now\n",
    "    spotify_access_token = r.json()['access_token']\n",
    "#     expires_in = r.json()['expires_in'] # in seconds\n",
    "#     expires = now + datetime.timedelta(seconds=expires_in)\n",
    "#     did_expire = expires < now\n",
    "\n",
    "# API call from https://developer.spotify.com/documentation/web-api/reference/#category-search\n",
    "search_item = \"Running\"\n",
    "type_to_search = \"playlist\"\n",
    "spotify_headers = {\n",
    "    \"Authorization\": f\"Bearer {spotify_access_token}\"\n",
    "}\n",
    "endpoint = 'https://api.spotify.com/v1/search'\n",
    "data = urlencode({\"q\": search_item, \"type\": type_to_search, \"limit\":1, \"offset\":0})\n",
    "\n",
    "lookup_url = f\"{endpoint}?{data}\"\n",
    "\n",
    "spotify_single_playlist = requests.get(lookup_url, headers=spotify_headers)\n",
    "\n",
    "print(spotify_single_playlist.status_code)\n",
    "print(spotify_single_playlist.json())"
   ]
  },
  {
   "cell_type": "code",
   "execution_count": 3,
   "metadata": {},
   "outputs": [
    {
     "data": {
      "text/plain": [
       "[{'Riton,Nightcrawlers,Mufasa & Hypeman': 'Friday (feat. Mufasa & Hypeman) - Dopamine Re-Edit'},\n",
       " {'MOLOW,Rompasso': 'Bass Goes Down'},\n",
       " {'Joel Corry,RAYE,David Guetta': 'BED'},\n",
       " {'WISEKIDS,Paolo Pellegrino,Shibui': 'DESTINY (I.O.U) (feat. Shibui)'},\n",
       " {'Gabry Ponte,Lucky Luke,Kevin Palms': 'Going Down'},\n",
       " {'Majestic,Boney M.': 'Rasputin'},\n",
       " {'Tom Enzy,Sam Welch': 'Sex on Fire'},\n",
       " {'SØLO,Kush Kush,Gabry Ponte': 'All That She Wants'},\n",
       " {'Tiësto': 'The Business'},\n",
       " {'Axel Johansson,Amanda Collis': 'Always Home'}]"
      ]
     },
     "execution_count": 3,
     "metadata": {},
     "output_type": "execute_result"
    }
   ],
   "source": [
    "spotify_playlist_id = spotify_single_playlist.json()[\"playlists\"][\"items\"][0][\"id\"]\n",
    "endpoint = f'https://api.spotify.com/v1/playlists/{spotify_playlist_id}/tracks'\n",
    "data = urlencode({\"market\": \"IT\", \"limit\":10, \"offset\":0, \"fields\": \"items(track(name, album(artists)))\"})\n",
    "lookup_url = f\"{endpoint}?{data}\"\n",
    "\n",
    "spotify_tracks_playlist = requests.get(lookup_url, headers=spotify_headers)\n",
    "# print(spotify_tracks_playlist.status_code)\n",
    "# print(spotify_tracks_playlist.json())\n",
    "\n",
    "# # storing songs titles and artists within playlist\n",
    "songs = [{','.join([song['track']['album']['artists'][index]['name'] for index in range(len(song['track']['album']['artists']))]): song['track']['name']} for song in spotify_tracks_playlist.json()['items']]\n",
    "songs"
   ]
  },
  {
   "cell_type": "code",
   "execution_count": 4,
   "metadata": {},
   "outputs": [],
   "source": [
    "# with only one artist name when multiple\n",
    "songs = [\n",
    "    {song['track']['album']['artists'][0]['name']: song['track']['name']} \n",
    "    for song in spotify_tracks_playlist.json()['items']\n",
    "]"
   ]
  },
  {
   "cell_type": "code",
   "execution_count": 14,
   "metadata": {},
   "outputs": [
    {
     "data": {
      "text/plain": [
       "[{'Riton': 'Friday (feat. Mufasa & Hypeman) - Dopamine Re-Edit'},\n",
       " {'MOLOW': 'Bass Goes Down'},\n",
       " {'Joel Corry': 'BED'},\n",
       " {'WISEKIDS': 'DESTINY (I.O.U) (feat. Shibui)'},\n",
       " {'Gabry Ponte': 'Going Down'},\n",
       " {'Majestic': 'Rasputin'},\n",
       " {'Tom Enzy': 'Sex on Fire'},\n",
       " {'SØLO': 'All That She Wants'},\n",
       " {'Tiësto': 'The Business'},\n",
       " {'Axel Johansson': 'Always Home'}]"
      ]
     },
     "execution_count": 14,
     "metadata": {},
     "output_type": "execute_result"
    }
   ],
   "source": [
    "songs"
   ]
  },
  {
   "cell_type": "code",
   "execution_count": 155,
   "metadata": {},
   "outputs": [
    {
     "name": "stdout",
     "output_type": "stream",
     "text": [
      "Riton\n",
      "Friday (feat. Mufasa & Hypeman) - Dopamine Re-Edit\n"
     ]
    }
   ],
   "source": [
    "# only one\n",
    "(artist_name_spotify, song_title_spotify), = songs[0].items()\n",
    "print(artist_name_spotify)\n",
    "print(song_title_spotify)"
   ]
  },
  {
   "cell_type": "markdown",
   "metadata": {},
   "source": [
    "### check the expiration time if involving everything in a for loop (pay attention to offset param)"
   ]
  },
  {
   "cell_type": "code",
   "execution_count": 156,
   "metadata": {},
   "outputs": [
    {
     "name": "stdout",
     "output_type": "stream",
     "text": [
      "Artists: ['Spotify', 'Spotify', 'Spotify', 'Spotify', 'Spotify', 'Spotify', 'Riton & Nightcrawlers']\n",
      "\n",
      "Songs titles: ['Today’s Top Hits 6/4/21 (feat. Billie Eilish)', 'Today’s Top Hits 3/5/21 (feat. Selena Gomez)', 'Today’s Top Hits 3/28/21 (feat. Cardi B)', 'Today’s Top Hits 5/14/21 (feat. The Weeknd & Ariana Grande)', 'Today’s Top Hits 5/21/21 (feat. BTS)', 'Today’s Top Hits 5/28/21 (feat. Olivia Rodrigo)', 'Friday (Dopamine Re-Edit)']\n"
     ]
    }
   ],
   "source": [
    "import lyricsgenius\n",
    "genius_token = 'gIPW9PqAO8nW3MO8kGqJouKyx4iWRJkLcuM2LThtRtlj8z557KKj21jwIymggQdr'\n",
    "genius = lyricsgenius.Genius(genius_token) # before it was api\n",
    "song = genius.search_songs(song_title_spotify, per_page = 50, page=1) # possible limitations on the number of objects retrieved\n",
    "artist_name_genius = [song['hits'][song_num]['result']['primary_artist']['name'] \n",
    "                      for song_num in range(len(song['hits']))]\n",
    "song_title_genius = [song['hits'][song_num]['result']['title']\n",
    "                      for song_num in range(len(song['hits']))]\n",
    "\n",
    "print(f'Artists: {artist_name_genius}')\n",
    "print(f'\\nSongs titles: {song_title_genius}')"
   ]
  },
  {
   "cell_type": "code",
   "execution_count": null,
   "metadata": {},
   "outputs": [],
   "source": [
    "# import os\n",
    "# print(os.getcwd())\n",
    "# artist.save_lyrics() "
   ]
  },
  {
   "cell_type": "code",
   "execution_count": null,
   "metadata": {},
   "outputs": [],
   "source": [
    "# import pandas as pd\n",
    "# import json\n",
    "# # Artist=pd.read_json(f\"Lyrics_{artist_name}.json\", orient='values')\n",
    "# with open(f\"Lyrics_{artist_name}.json\") as json_data:\n",
    "#     Artist_dict = json.load(json_data)\n",
    "# for i in Artist_dict['songs'][0].keys():\n",
    "#     print(i)"
   ]
  },
  {
   "cell_type": "code",
   "execution_count": 118,
   "metadata": {},
   "outputs": [],
   "source": [
    "# #Create an empty dictionary to store your songs and related data\n",
    "# artist_dict = {}\n",
    "# def collectSongData(adic):\n",
    "#     dps = list()\n",
    "#     title = adic['title'] #song title\n",
    "#     url = adic['url'] #genius url\n",
    "#     artist = adic['artist'] #artist name(s)\n",
    "#     song_id = adic['id'] #genius id\n",
    "#     lyrics = adic['lyrics'] #song lyrics\n",
    "#     year = adic['release_date'] #release date\n",
    "#     upload_date = adic['description_annotation']['annotatable']['client_timestamps']['lyrics_updated_at'] #lyrics upload date\n",
    "#     annotations = adic['annotation_count'] #total no. of annotations\n",
    "#     descr = adic['description'] #song descriptions\n",
    "    \n",
    "#     dps.append((title,url,artist,song_id,lyrics,year,upload_date,annotations,descr)) #append all to one tuple list\n",
    "#     artist_dict[title] = dps #assign list to song dictionary entry named after song title\n",
    "    \n",
    "# collectSongData(Artist_dict['songs'][0]) #check function works\n",
    "# artist_dict"
   ]
  },
  {
   "cell_type": "code",
   "execution_count": null,
   "metadata": {},
   "outputs": [],
   "source": []
  },
  {
   "cell_type": "code",
   "execution_count": 106,
   "metadata": {},
   "outputs": [],
   "source": [
    "# Searching a song with combination of song_title and artist_name from spotify\n",
    "# song= genius.search_song(song_title, artist_name)\n",
    "# print(song.title)"
   ]
  },
  {
   "cell_type": "code",
   "execution_count": null,
   "metadata": {},
   "outputs": [],
   "source": []
  },
  {
   "cell_type": "code",
   "execution_count": null,
   "metadata": {},
   "outputs": [],
   "source": []
  }
 ],
 "metadata": {
  "kernelspec": {
   "display_name": "Python 3",
   "language": "python",
   "name": "python3"
  },
  "language_info": {
   "codemirror_mode": {
    "name": "ipython",
    "version": 3
   },
   "file_extension": ".py",
   "mimetype": "text/x-python",
   "name": "python",
   "nbconvert_exporter": "python",
   "pygments_lexer": "ipython3",
   "version": "3.8.5"
  }
 },
 "nbformat": 4,
 "nbformat_minor": 4
}
