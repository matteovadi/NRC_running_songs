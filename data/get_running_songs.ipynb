{
 "cells": [
  {
   "cell_type": "markdown",
   "metadata": {},
   "source": [
    "# Running songs from Spotify playlists Analysis\n",
    "Exploring Spotify playlists with the word \"running\" in the title.\n"
   ]
  },
  {
   "cell_type": "markdown",
   "metadata": {},
   "source": [
    "## Get libraries\n"
   ]
  },
  {
   "cell_type": "code",
   "execution_count": null,
   "metadata": {},
   "outputs": [],
   "source": [
    "import spotify.sync as spotify\n",
    "import base64\n",
    "import requests\n",
    "import pandas as pd\n",
    "from urllib.parse import urlencode\n",
    "import math"
   ]
  },
  {
   "cell_type": "markdown",
   "metadata": {},
   "source": [
    "## Set up API access\n",
    "\n",
    "References: __[link](https://developer.spotify.com/documentation/general/guides/authorization-guide/#client-credentials-flow)__"
   ]
  },
  {
   "cell_type": "code",
   "execution_count": null,
   "metadata": {},
   "outputs": [],
   "source": [
    "# Setting up spotify credetnials\n",
    "spotify_client_id = '...' # your credentials here\n",
    "spotify_client_secret = '...' # your credentials here\n",
    "spotify_client_creds = f'{spotify_client_id}:{spotify_client_secret}'\n",
    "spotify_client_creds_b64 = base64.b64encode(spotify_client_creds.encode())\n",
    "    \n",
    "# Using client ID and secret to get a token to be used for each requests\n",
    "spotify_token_url = 'https://accounts.spotify.com/api/token' \n",
    "spotify_token_data = {\n",
    "    'grant_type': 'client_credentials'\n",
    "}\n",
    "\n",
    "spotify_token_headers = {\n",
    "    'Authorization': f\"Basic {spotify_client_creds_b64.decode()}\" #<base64 encoded client_id:client_secret>\n",
    "}\n",
    "# Get the token with a POST request\n",
    "r = requests.post(spotify_token_url, data=spotify_token_data, headers=spotify_token_headers)\n",
    "valid_request = r.status_code in range(200, 299)\n",
    "if valid_request:\n",
    "    spotify_access_token = r.json()['access_token']\n",
    "spotify_headers = {\n",
    "    \"Authorization\": f\"Bearer {spotify_access_token}\"\n",
    "}"
   ]
  },
  {
   "cell_type": "markdown",
   "metadata": {},
   "source": [
    "## Get playlists with Running in the title\n",
    "\n",
    "References: __[link](https://developer.spotify.com/documentation/web-api/reference/#category-search)__"
   ]
  },
  {
   "cell_type": "code",
   "execution_count": null,
   "metadata": {
    "scrolled": true
   },
   "outputs": [],
   "source": [
    "# Spotify API call (set limit to 20 to be consistent with Nike's playlists)\n",
    "search_item = \"Running\"\n",
    "type_to_search = \"playlist\"\n",
    "\n",
    "endpoint = 'https://api.spotify.com/v1/search'\n",
    "data = urlencode({\"q\": search_item, \"type\": type_to_search, \"limit\":20, \"offset\":20})\n",
    "\n",
    "lookup_url = f\"{endpoint}?{data}\"\n",
    "\n",
    "spotify_playlists = requests.get(lookup_url, headers=spotify_headers)\n",
    "\n",
    "spotify_playlists.json()['playlists']"
   ]
  },
  {
   "cell_type": "code",
   "execution_count": null,
   "metadata": {},
   "outputs": [],
   "source": [
    "# Define dictionary and database for playlist\n",
    "playlists_dict = {'playlist_id': None, 'playlist_name': None, 'url': None, 'total_track': None}\n",
    "\n",
    "columns_playlists = ['playlist_id', 'playlist_name', 'url', 'total_track']\n",
    "\n",
    "df_playlists = pd.DataFrame(columns=columns_playlists)\n",
    "\n",
    "# Store the results in a dataframe\n",
    "for playlist in spotify_playlists.json()['playlists']['items']:\n",
    "    playlists_dict['playlist_id'] = playlist['id']\n",
    "    playlists_dict['playlist_name'] = playlist['name']\n",
    "    playlists_dict['url'] = playlist['external_urls']['spotify']\n",
    "    playlists_dict['total_track'] = playlist['tracks']['total']\n",
    "    \n",
    "    # Store in the pandas dataset\n",
    "    df_playlists = df_playlists.append(playlists_dict, ignore_index=True)\n",
    "\n",
    "df_playlists"
   ]
  },
  {
   "cell_type": "markdown",
   "metadata": {},
   "source": [
    "## Get songs in the selected Running playlists"
   ]
  },
  {
   "cell_type": "code",
   "execution_count": null,
   "metadata": {},
   "outputs": [],
   "source": [
    "# Define a dict to keep information about songs\n",
    "songs_dict = {'spotify_id': None, 'artist': None, 'feat_artists': None, 'spotify_url': None, 'title': None, 'popularity': None,\n",
    "              'lyrics': None, 'duration_ms': None, 'song_art_image_url': None,\n",
    "             'danceability': None, 'energy': None, 'key': None, 'loudness': None, 'mode': None, 'speechiness': None, \n",
    "              'acousticness': None, 'instrumentalness': None, 'liveness': None, 'valence': None, 'tempo': None\n",
    "}\n",
    "\n",
    "# Define empti pandas dataframe to store song info\n",
    "songs_col = ['spotify_id', 'title', 'artist', 'feat_artists', 'spotify_url', 'popularity', \n",
    "                 'lyrics', 'duration_ms', 'song_art_image_url', 'danceability', 'energy', \n",
    "                 'key', 'loudness', 'mode', 'speechiness','acousticness', 'instrumentalness', 'liveness', \n",
    "                 'valence', 'tempo'\n",
    "]\n",
    "\n",
    "audio_features_col = ['popularity', \n",
    "                 'duration_ms', 'danceability', 'energy', \n",
    "                 'key', 'loudness', 'mode', 'speechiness','acousticness', 'instrumentalness', 'liveness', \n",
    "                 'valence', 'tempo']\n",
    "\n",
    "metadata_col = ['spotify_id', 'title', 'artist', 'feat_artists', 'spotify_url', 'song_art_image_url', 'lyrics']\n",
    "\n",
    "df_songs = pd.DataFrame(columns=songs_col)"
   ]
  },
  {
   "cell_type": "code",
   "execution_count": null,
   "metadata": {},
   "outputs": [],
   "source": [
    "# Function definitions\n",
    "def remove_brackets(mystring):\n",
    "    ''' Remove brackets from the title, otherwise can not find lyrics from genius\n",
    "    '''\n",
    "    start = mystring.find(\"(\")\n",
    "    end = mystring.find(\")\")\n",
    "    result = mystring\n",
    "    \n",
    "    if start != -1 and end != -1:\n",
    "        result = mystring[0:start]\n",
    "    return result"
   ]
  },
  {
   "cell_type": "markdown",
   "metadata": {},
   "source": [
    "Reference: __[here](https://developer.spotify.com/documentation/web-api/reference/#object-audiofeaturesobject)__."
   ]
  },
  {
   "cell_type": "code",
   "execution_count": null,
   "metadata": {},
   "outputs": [],
   "source": [
    "# Store data of songs in a dataframe\n",
    "for spotify_id in df_playlists.playlist_id:\n",
    "    # API call for each different playlists (10 tracks per playlists to be consistent with Nike's playlists)\n",
    "    endpoint = f'https://api.spotify.com/v1/playlists/{spotify_id}/tracks?limit=10'\n",
    "    spotify_tracks_playlist = requests.get(endpoint, headers=spotify_headers)\n",
    "    # Loop inside each playlist to get data\n",
    "    for iteration, song in enumerate(spotify_tracks_playlist.json()['items']):\n",
    "\n",
    "        # Get information fom the playlist api call\n",
    "        songs_dict['spotify_id'] = song['track']['id']\n",
    "        songs_dict['title'] = remove_brackets(song['track']['name'])\n",
    "        songs_dict['popularity'] = song['track']['popularity']\n",
    "        songs_dict['spotify_url'] = song['track']['external_urls']['spotify']\n",
    "        songs_dict['duration_ms'] = song['track']['duration_ms']\n",
    "        \n",
    "        # Get audio features information\n",
    "        # more info here \n",
    "        spotify_id = song['track']['id']\n",
    "        endpoint = f\"https://api.spotify.com/v1/audio-features/{spotify_id}\"\n",
    "        audio_features = requests.get(endpoint, headers=spotify_headers)\n",
    "        songs_dict['danceability'] = audio_features.json()['danceability']\n",
    "        songs_dict['energy'] = audio_features.json()['energy']\n",
    "        songs_dict['key'] = audio_features.json()['key']\n",
    "        songs_dict['loudness'] = audio_features.json()['loudness']\n",
    "        songs_dict['mode'] = audio_features.json()['mode']\n",
    "        songs_dict['spechiness'] = audio_features.json()['speechiness']\n",
    "        songs_dict['acousticness'] = audio_features.json()['acousticness']\n",
    "        songs_dict['instrumentalness'] = audio_features.json()['instrumentalness']\n",
    "        songs_dict['liveness'] = audio_features.json()['liveness']\n",
    "        songs_dict['valence'] = audio_features.json()['valence']\n",
    "        songs_dict['tempo'] = audio_features.json()['tempo']\n",
    "        # Look if there are multiple artists\n",
    "        list_feat_artists = []\n",
    "\n",
    "        for i, artist in enumerate(song['track']['album']['artists']):\n",
    "            if i == 0:\n",
    "                songs_dict['artist'] = artist['name']\n",
    "            else:\n",
    "                list_feat_artists.append(artist['name'])\n",
    "\n",
    "        songs_dict['feat_artists'] = list_feat_artists  \n",
    "\n",
    "        df_songs = df_songs.append(songs_dict, ignore_index=True)\n",
    "\n",
    "df_songs.sort_values(by='popularity', ascending=False)"
   ]
  },
  {
   "cell_type": "code",
   "execution_count": null,
   "metadata": {
    "scrolled": false
   },
   "outputs": [],
   "source": [
    "df_songs.drop_duplicates(subset=['spotify_id'], keep='first', inplace = True)"
   ]
  },
  {
   "cell_type": "markdown",
   "metadata": {},
   "source": [
    "# Get Lyrics "
   ]
  },
  {
   "cell_type": "code",
   "execution_count": null,
   "metadata": {},
   "outputs": [],
   "source": [
    "# df_songs = pd.read_csv(r'/Users/MVadi/Desktop/df_running_songs.csv')"
   ]
  },
  {
   "cell_type": "code",
   "execution_count": null,
   "metadata": {},
   "outputs": [],
   "source": [
    "df_songs"
   ]
  },
  {
   "cell_type": "code",
   "execution_count": null,
   "metadata": {},
   "outputs": [],
   "source": [
    "import lyricsgenius\n",
    "genius_token = '...' # your credentials here\n",
    "genius = lyricsgenius.Genius(genius_token, skip_non_songs=True, \n",
    "                             excluded_terms=[\"(Remix)\", \"(Live)\"], remove_section_headers=True)"
   ]
  },
  {
   "cell_type": "code",
   "execution_count": null,
   "metadata": {
    "scrolled": false
   },
   "outputs": [],
   "source": [
    "for ind in range(len(df_songs)):\n",
    "    while True:\n",
    "        try:\n",
    "            song = genius.search_song(df_songs['title'][ind], df_songs['artist'][ind])\n",
    "            break\n",
    "        except:\n",
    "            pass\n",
    "    if song is not(None):\n",
    "        # Add information from genius to the songs database\n",
    "        df_songs['song_art_image_url'][ind] = song.song_art_image_url\n",
    "        df_songs['lyrics'][ind] = song.lyrics"
   ]
  },
  {
   "cell_type": "code",
   "execution_count": null,
   "metadata": {},
   "outputs": [],
   "source": [
    "no_lyrics = df_songs['lyrics'].isna().sum()\n",
    "tot_songs = df_songs.shape[0]\n",
    "perc_songs = (((tot_songs - no_lyrics) / tot_songs) * 100).round(2)\n",
    "print(f\"Lyrics retrieved for {tot_songs - no_lyrics} out of {tot_songs} songs ({perc_songs}%)\")"
   ]
  },
  {
   "cell_type": "code",
   "execution_count": null,
   "metadata": {},
   "outputs": [],
   "source": [
    "df_songs['lyrics'][0]"
   ]
  },
  {
   "cell_type": "code",
   "execution_count": null,
   "metadata": {},
   "outputs": [],
   "source": [
    "df_songs.to_csv(r'/Users/MVadi/Desktop/running_songs.csv', index=False)"
   ]
  },
  {
   "cell_type": "code",
   "execution_count": null,
   "metadata": {
    "scrolled": true
   },
   "outputs": [],
   "source": [
    "# df= pd.read_csv(r'/Users/MVadi/Desktop/running_songs.csv')\n",
    "# df"
   ]
  }
 ],
 "metadata": {
  "kernelspec": {
   "display_name": "Python 3",
   "language": "python",
   "name": "python3"
  },
  "language_info": {
   "codemirror_mode": {
    "name": "ipython",
    "version": 3
   },
   "file_extension": ".py",
   "mimetype": "text/x-python",
   "name": "python",
   "nbconvert_exporter": "python",
   "pygments_lexer": "ipython3",
   "version": "3.8.5"
  }
 },
 "nbformat": 4,
 "nbformat_minor": 4
}
